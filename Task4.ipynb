{
 "cells": [
  {
   "cell_type": "markdown",
   "id": "51fb2c3a-81c2-49f9-8d4a-8d710411bd46",
   "metadata": {},
   "source": [
    "# Combine Census PEP characteristics data for Ohio counties"
   ]
  },
  {
   "cell_type": "markdown",
   "id": "cf6733ea-8207-477b-ad4c-a02d0d249a32",
   "metadata": {},
   "source": [
    "This script will retrieve the County Population by Characteristics datasets for several decades from the Census Population Estimates Program website, merge them, and standarize them as a long-format CSV file. "
   ]
  },
  {
   "cell_type": "markdown",
   "id": "b1b9c8f6-4edb-42ab-8086-8788b92a52cf",
   "metadata": {},
   "source": [
    "## Setup"
   ]
  },
  {
   "cell_type": "markdown",
   "id": "ecf1d704-b4ae-4ba2-9297-63743897c897",
   "metadata": {},
   "source": [
    "### Import required packages"
   ]
  },
  {
   "cell_type": "code",
   "execution_count": 280,
   "id": "34f98b74-317d-4c56-991f-7300182a2386",
   "metadata": {},
   "outputs": [],
   "source": [
    "import os\n",
    "import pandas as pd\n",
    "import re\n",
    "import json\n",
    "import sys\n",
    "sys.path.append(os.path.normpath(\"../morpc-common\"))\n",
    "import morpc"
   ]
  },
  {
   "cell_type": "markdown",
   "id": "3b3c2370-9e2b-4d4f-ba9d-212843a91133",
   "metadata": {},
   "source": [
    "### Parameters"
   ]
  },
  {
   "cell_type": "code",
   "execution_count": 281,
   "id": "dec8d074-cd13-4326-a840-72fbfe2431c6",
   "metadata": {},
   "outputs": [],
   "source": [
    "# Define county groups\n",
    "CONST_REGIONS = {\n",
    "    \"15-County Region\": [\"Delaware\", \"Fairfield\", \"Fayette\", \"Franklin\", \"Hocking\", \"Knox\", \"Licking\", \"Logan\", \"Madison\", \"Marion\", \"Morrow\", \"Perry\", \"Pickaway\", \"Ross\", \"Union\"],\n",
    "    \"10-County Region\": [\"Delaware\", \"Fairfield\", \"Franklin\", \"Knox\", \"Licking\", \"Madison\", \"Marion\", \"Morrow\", \"Pickaway\", \"Union\"],\n",
    "    \"CORPO Region\": [\"Fairfield\", \"Knox\", \"Madison\", \"Marion\", \"Morrow\", \"Pickaway\", \"Union\"]\n",
    "}\n",
    "\n",
    "# Define input and output directories\n",
    "INPUT_DIR = \"./input_data\"\n",
    "OUTPUT_DIR = \"./output_data\""
   ]
  },
  {
   "cell_type": "markdown",
   "id": "62fc57b1-ff2d-4da8-84c5-5a35b318295e",
   "metadata": {},
   "source": [
    "### Define inputs"
   ]
  },
  {
   "cell_type": "markdown",
   "id": "32c1c119-e8e5-471e-b1ca-a564f34d6c20",
   "metadata": {},
   "source": [
    "#### Census PEP data 2000+"
   ]
  },
  {
   "cell_type": "code",
   "execution_count": 282,
   "id": "c57ea449-f585-4227-80a5-2ebb572e7257",
   "metadata": {},
   "outputs": [],
   "source": [
    "CENSUSPEP_COUNTY_WIDE_2000_TABLE_FILENAME = \"censusPep_county_char.csv\"\n",
    "CENSUSPEP_COUNTY_WIDE_2000_TABLE_PATH = os.path.join(INPUT_DIR, CENSUSPEP_COUNTY_WIDE_2000_TABLE_FILENAME)\n",
    "CENSUSPEP_COUNTY_WIDE_2000_TABLE_SCHEMA_FILENAME = CENSUSPEP_COUNTY_WIDE_2000_TABLE_FILENAME.replace(\".csv\",\"_schema.json\")\n",
    "CENSUSPEP_COUNTY_WIDE_2000_TABLE_SCHEMA_PATH = os.path.join(INPUT_DIR, CENSUSPEP_COUNTY_WIDE_2000_TABLE_SCHEMA_FILENAME)"
   ]
  },
  {
   "cell_type": "markdown",
   "id": "eb970a4b-adaf-4526-87fc-c48ac8b2d042",
   "metadata": {},
   "source": [
    "#### Census PEP data 1980-1989"
   ]
  },
  {
   "cell_type": "code",
   "execution_count": 283,
   "id": "4a3e2b69-7b5f-4f69-8480-efe89b749d8a",
   "metadata": {},
   "outputs": [],
   "source": [
    "CENSUSPEP_COUNTY_WIDE_1980_1989_TABLE_FILENAME = \"pe-02.csv\"\n",
    "CENSUSPEP_COUNTY_WIDE_1980_1989_TABLE_PATH = os.path.join(INPUT_DIR, CENSUSPEP_COUNTY_WIDE_1980_1989_TABLE_FILENAME)\n",
    "CENSUSPEP_COUNTY_WIDE_1980_1989_TABLE_SCHEMA_FILENAME = CENSUSPEP_COUNTY_WIDE_1980_1989_TABLE_FILENAME.replace(\".csv\",\"_schema.json\")\n",
    "CENSUSPEP_COUNTY_WIDE_1980_1989_TABLE_SCHEMA_PATH = os.path.join(INPUT_DIR, CENSUSPEP_COUNTY_WIDE_1980_1989_TABLE_SCHEMA_FILENAME)"
   ]
  },
  {
   "cell_type": "markdown",
   "id": "69c4d689-4412-4652-abfc-386804a6491e",
   "metadata": {},
   "source": [
    "#### Census PEP data 1990-1999"
   ]
  },
  {
   "cell_type": "code",
   "execution_count": 284,
   "id": "f885f320-0182-4d75-986d-9b4f1f84858d",
   "metadata": {},
   "outputs": [],
   "source": [
    "CENSUSPEP_COUNTY_WIDE_1990_1999_TABLE_FILENAME = \"stch-icen1990.txt\"\n",
    "CENSUSPEP_COUNTY_WIDE_1990_1999_TABLE_PATH = os.path.join(INPUT_DIR, CENSUSPEP_COUNTY_WIDE_1990_1999_TABLE_FILENAME)\n",
    "CENSUSPEP_COUNTY_WIDE_1990_1999_CSV_TABLE_FILENAME = \"stch-icen1990.csv\"\n",
    "CENSUSPEP_COUNTY_WIDE_1990_1999_CSV_TABLE_PATH = os.path.join(INPUT_DIR, CENSUSPEP_COUNTY_WIDE_1990_1999_CSV_TABLE_FILENAME)\n",
    "CENSUSPEP_COUNTY_WIDE_1990_1999_TABLE_SCHEMA_FILENAME = CENSUSPEP_COUNTY_WIDE_1990_1999_TABLE_FILENAME.replace(\".txt\",\"_schema.json\")\n",
    "CENSUSPEP_COUNTY_WIDE_1990_1999_TABLE_SCHEMA_PATH = os.path.join(INPUT_DIR, CENSUSPEP_COUNTY_WIDE_1990_1999_TABLE_SCHEMA_FILENAME)"
   ]
  },
  {
   "cell_type": "markdown",
   "id": "be8988c8-6918-4b6e-9079-d492a8496579",
   "metadata": {},
   "source": [
    "### Define output"
   ]
  },
  {
   "cell_type": "code",
   "execution_count": 312,
   "id": "0968636e-b590-4afa-839b-89e21ea5e550",
   "metadata": {},
   "outputs": [],
   "source": [
    "OUTPUT_TABLE_FILENAME = \"output_data.csv\"\n",
    "OUTPUT_TABLE_PATH = os.path.join(OUTPUT_DIR, OUTPUT_TABLE_FILENAME)\n",
    "OUTPUT_TABLE1_FILENAME = \"output_data1.csv\"\n",
    "OUTPUT_TABLE1_PATH = os.path.join(OUTPUT_DIR, OUTPUT_TABLE1_FILENAME)"
   ]
  },
  {
   "cell_type": "markdown",
   "id": "ddef1c05-3e02-4639-82c2-b57abc1d081d",
   "metadata": {},
   "source": [
    "## Getting 2000+ data"
   ]
  },
  {
   "cell_type": "code",
   "execution_count": 286,
   "id": "1aff535d-1b66-491b-ba01-e7bc392004ee",
   "metadata": {},
   "outputs": [],
   "source": [
    "# Adjust the path to where the .csv table and .json schema are located\n",
    "table_path = \"../morpc-censuspep-fetch/output_data/censusPep_county_char.csv\"\n",
    "\n",
    "# Read the CSV file into a DataFrame\n",
    "data = pd.read_csv(table_path, index_col=0)\n",
    "\n",
    "# Filter out rows where CTYNAME is not in the \"10-County Region\"\n",
    "filtered_df = data[data['CTYNAME'].isin(CONST_REGIONS[\"10-County Region\"])]\n",
    "\n",
    "# Filter rows where \"Variable\" is equal to \"TOT_POP\"\n",
    "filtered_df = filtered_df[filtered_df['Variable'] == 'TOT_POP']\n",
    "\n",
    "# Save the census data to the input directory\n",
    "filtered_df.to_csv(CENSUSPEP_COUNTY_WIDE_2000_TABLE_PATH)"
   ]
  },
  {
   "cell_type": "code",
   "execution_count": 287,
   "id": "8b1444d1-6beb-402e-9d51-f6722983bedf",
   "metadata": {},
   "outputs": [],
   "source": [
    "grouped_sum = filtered_df.groupby(['YEAR', 'AGEGRP'])['Value'].sum().reset_index()\n",
    "aggregated_df = pd.DataFrame(columns=['YEAR', 'AGEGRP', 'Value'])\n",
    "aggregated_df = pd.concat([aggregated_df, grouped_sum], ignore_index=True)\n",
    "\n",
    "# Show the aggregated DataFrame\n",
    "aggregated_df.head()\n",
    "\n",
    "aggregated_df.to_csv(CENSUSPEP_COUNTY_WIDE_2000_TABLE_PATH)"
   ]
  },
  {
   "cell_type": "code",
   "execution_count": 288,
   "id": "4d3c08c4-0510-44db-a6d0-509ee2b0f1bd",
   "metadata": {},
   "outputs": [],
   "source": [
    "# Group by \"YEAR\" and sum \"Value\" for each group\n",
    "yearly_sum = aggregated_df.groupby('YEAR')['Value'].sum().reset_index()\n",
    "\n",
    "# Add a new column for \"AGEGRP\" with the value \"Total\" for these summary rows\n",
    "yearly_sum['AGEGRP'] = 'Total'\n",
    "\n",
    "# Rearrange columns to match the original DataFrame's order\n",
    "yearly_sum = yearly_sum[['YEAR', 'AGEGRP', 'Value']]\n",
    "\n",
    "# Append these new summary rows to the original DataFrame\n",
    "updated_df = pd.concat([aggregated_df, yearly_sum], ignore_index=True)\n",
    "\n",
    "# Convert AGEGRP to a type that sorts numerically first, then by string\n",
    "updated_df['AGEGRP'] = pd.Categorical(updated_df['AGEGRP'], ordered=True, \n",
    "                                      categories=sorted(updated_df['AGEGRP'].unique(), key=str))\n",
    "\n",
    "# Sort the DataFrame by 'YEAR' and then by 'AGEGRP'\n",
    "sorted_df = updated_df.sort_values(by=['YEAR', 'AGEGRP'])\n",
    "\n",
    "yearly_sum = yearly_sum[yearly_sum['YEAR'].isin([2000, 2010, 2020])]\n",
    "\n",
    "# Filter the DataFrame to keep only rows where YEAR is 2000, 2010, or 2020\n",
    "filtered_df = sorted_df[sorted_df['YEAR'].isin([2000, 2010, 2020])]\n",
    "\n",
    "totals_df = filtered_df[filtered_df['AGEGRP'] == 'total']"
   ]
  },
  {
   "cell_type": "code",
   "execution_count": 289,
   "id": "27b33bb0-d086-4c16-9fe0-017dc384fc5a",
   "metadata": {},
   "outputs": [
    {
     "data": {
      "text/html": [
       "<div>\n",
       "<style scoped>\n",
       "    .dataframe tbody tr th:only-of-type {\n",
       "        vertical-align: middle;\n",
       "    }\n",
       "\n",
       "    .dataframe tbody tr th {\n",
       "        vertical-align: top;\n",
       "    }\n",
       "\n",
       "    .dataframe thead th {\n",
       "        text-align: right;\n",
       "    }\n",
       "</style>\n",
       "<table border=\"1\" class=\"dataframe\">\n",
       "  <thead>\n",
       "    <tr style=\"text-align: right;\">\n",
       "      <th></th>\n",
       "      <th>YEAR</th>\n",
       "      <th>AGEGRP</th>\n",
       "      <th>Value</th>\n",
       "    </tr>\n",
       "  </thead>\n",
       "  <tbody>\n",
       "    <tr>\n",
       "      <th>0</th>\n",
       "      <td>2000</td>\n",
       "      <td>Total</td>\n",
       "      <td>1740458</td>\n",
       "    </tr>\n",
       "    <tr>\n",
       "      <th>10</th>\n",
       "      <td>2010</td>\n",
       "      <td>Total</td>\n",
       "      <td>3936535</td>\n",
       "    </tr>\n",
       "    <tr>\n",
       "      <th>20</th>\n",
       "      <td>2020</td>\n",
       "      <td>Total</td>\n",
       "      <td>6614062</td>\n",
       "    </tr>\n",
       "  </tbody>\n",
       "</table>\n",
       "</div>"
      ],
      "text/plain": [
       "    YEAR AGEGRP    Value\n",
       "0   2000  Total  1740458\n",
       "10  2010  Total  3936535\n",
       "20  2020  Total  6614062"
      ]
     },
     "execution_count": 289,
     "metadata": {},
     "output_type": "execute_result"
    }
   ],
   "source": [
    "yearly_sum.head()"
   ]
  },
  {
   "cell_type": "code",
   "execution_count": 290,
   "id": "6efb25c7-43c9-4317-b4d9-3d3fe494b071",
   "metadata": {},
   "outputs": [
    {
     "data": {
      "text/html": [
       "<div>\n",
       "<style scoped>\n",
       "    .dataframe tbody tr th:only-of-type {\n",
       "        vertical-align: middle;\n",
       "    }\n",
       "\n",
       "    .dataframe tbody tr th {\n",
       "        vertical-align: top;\n",
       "    }\n",
       "\n",
       "    .dataframe thead th {\n",
       "        text-align: right;\n",
       "    }\n",
       "</style>\n",
       "<table border=\"1\" class=\"dataframe\">\n",
       "  <thead>\n",
       "    <tr style=\"text-align: right;\">\n",
       "      <th></th>\n",
       "      <th>YEAR</th>\n",
       "      <th>Value</th>\n",
       "      <th>AGEGRP</th>\n",
       "    </tr>\n",
       "  </thead>\n",
       "  <tbody>\n",
       "    <tr>\n",
       "      <th>0</th>\n",
       "      <td>2000</td>\n",
       "      <td>899510</td>\n",
       "      <td>UNDER 35</td>\n",
       "    </tr>\n",
       "    <tr>\n",
       "      <th>1</th>\n",
       "      <td>2010</td>\n",
       "      <td>1947657</td>\n",
       "      <td>UNDER 35</td>\n",
       "    </tr>\n",
       "    <tr>\n",
       "      <th>2</th>\n",
       "      <td>2020</td>\n",
       "      <td>3170280</td>\n",
       "      <td>UNDER 35</td>\n",
       "    </tr>\n",
       "  </tbody>\n",
       "</table>\n",
       "</div>"
      ],
      "text/plain": [
       "   YEAR    Value    AGEGRP\n",
       "0  2000   899510  UNDER 35\n",
       "1  2010  1947657  UNDER 35\n",
       "2  2020  3170280  UNDER 35"
      ]
     },
     "execution_count": 290,
     "metadata": {},
     "output_type": "execute_result"
    }
   ],
   "source": [
    "AGEUNDER35 = ['0 to 4', '5 to 9', '10 to 14', '15 to 19', '20 to 24', '25 to 29', '30 to 34']\n",
    "\n",
    "# Filter the DataFrame for the specified age groups\n",
    "under_35_df = filtered_df[filtered_df['AGEGRP'].isin(AGEUNDER35)]\n",
    "\n",
    "# Group by 'YEAR' and sum 'Value' for each group, creating a new 'AGEGRP' for \"UNDER 35\"\n",
    "under_35_df = under_35_df.groupby('YEAR')['Value'].sum().reset_index()\n",
    "under_35_df['AGEGRP'] = 'UNDER 35'\n",
    "\n",
    "under_35_df.head()"
   ]
  },
  {
   "cell_type": "code",
   "execution_count": 291,
   "id": "a0b1e0b7-5c7b-4d79-bdcd-57499c5ffe65",
   "metadata": {},
   "outputs": [
    {
     "data": {
      "text/html": [
       "<div>\n",
       "<style scoped>\n",
       "    .dataframe tbody tr th:only-of-type {\n",
       "        vertical-align: middle;\n",
       "    }\n",
       "\n",
       "    .dataframe tbody tr th {\n",
       "        vertical-align: top;\n",
       "    }\n",
       "\n",
       "    .dataframe thead th {\n",
       "        text-align: right;\n",
       "    }\n",
       "</style>\n",
       "<table border=\"1\" class=\"dataframe\">\n",
       "  <thead>\n",
       "    <tr style=\"text-align: right;\">\n",
       "      <th></th>\n",
       "      <th>YEAR</th>\n",
       "      <th>Value</th>\n",
       "      <th>AGEGRP</th>\n",
       "    </tr>\n",
       "  </thead>\n",
       "  <tbody>\n",
       "    <tr>\n",
       "      <th>0</th>\n",
       "      <td>2000</td>\n",
       "      <td>662071</td>\n",
       "      <td>35 TO 64</td>\n",
       "    </tr>\n",
       "    <tr>\n",
       "      <th>1</th>\n",
       "      <td>2010</td>\n",
       "      <td>1560721</td>\n",
       "      <td>35 TO 64</td>\n",
       "    </tr>\n",
       "    <tr>\n",
       "      <th>2</th>\n",
       "      <td>2020</td>\n",
       "      <td>2522795</td>\n",
       "      <td>35 TO 64</td>\n",
       "    </tr>\n",
       "  </tbody>\n",
       "</table>\n",
       "</div>"
      ],
      "text/plain": [
       "   YEAR    Value    AGEGRP\n",
       "0  2000   662071  35 TO 64\n",
       "1  2010  1560721  35 TO 64\n",
       "2  2020  2522795  35 TO 64"
      ]
     },
     "execution_count": 291,
     "metadata": {},
     "output_type": "execute_result"
    }
   ],
   "source": [
    "# Define the age groups for 35 to 64\n",
    "AGE35TO64 = ['35 to 39', '40 to 44', '45 to 49','50 to 54','55 to 59','60 to 64']\n",
    "\n",
    "# Filter the DataFrame for the specified age groups\n",
    "filtered_df_35to64 = filtered_df[filtered_df['AGEGRP'].isin(AGE35TO64)]\n",
    "\n",
    "# Group by 'YEAR' and sum 'Value' for each group, creating a new 'AGEGRP' for \"35 TO 64\"\n",
    "age35to64_df = filtered_df_35to64.groupby('YEAR')['Value'].sum().reset_index()\n",
    "age35to64_df['AGEGRP'] = '35 TO 64'\n",
    "\n",
    "age35to64_df.head()"
   ]
  },
  {
   "cell_type": "code",
   "execution_count": 292,
   "id": "cfecf59f-a6ff-4360-8efe-712ede5054ab",
   "metadata": {},
   "outputs": [
    {
     "data": {
      "text/html": [
       "<div>\n",
       "<style scoped>\n",
       "    .dataframe tbody tr th:only-of-type {\n",
       "        vertical-align: middle;\n",
       "    }\n",
       "\n",
       "    .dataframe tbody tr th {\n",
       "        vertical-align: top;\n",
       "    }\n",
       "\n",
       "    .dataframe thead th {\n",
       "        text-align: right;\n",
       "    }\n",
       "</style>\n",
       "<table border=\"1\" class=\"dataframe\">\n",
       "  <thead>\n",
       "    <tr style=\"text-align: right;\">\n",
       "      <th></th>\n",
       "      <th>YEAR</th>\n",
       "      <th>Value</th>\n",
       "      <th>AGEGRP</th>\n",
       "    </tr>\n",
       "  </thead>\n",
       "  <tbody>\n",
       "    <tr>\n",
       "      <th>0</th>\n",
       "      <td>2000</td>\n",
       "      <td>178877</td>\n",
       "      <td>65 AND OLDER</td>\n",
       "    </tr>\n",
       "    <tr>\n",
       "      <th>1</th>\n",
       "      <td>2010</td>\n",
       "      <td>428157</td>\n",
       "      <td>65 AND OLDER</td>\n",
       "    </tr>\n",
       "    <tr>\n",
       "      <th>2</th>\n",
       "      <td>2020</td>\n",
       "      <td>920987</td>\n",
       "      <td>65 AND OLDER</td>\n",
       "    </tr>\n",
       "  </tbody>\n",
       "</table>\n",
       "</div>"
      ],
      "text/plain": [
       "   YEAR   Value        AGEGRP\n",
       "0  2000  178877  65 AND OLDER\n",
       "1  2010  428157  65 AND OLDER\n",
       "2  2020  920987  65 AND OLDER"
      ]
     },
     "execution_count": 292,
     "metadata": {},
     "output_type": "execute_result"
    }
   ],
   "source": [
    "# Define the age groups for 35 to 64\n",
    "AGE65PLUS = ['65 to 69', '70 to 74', '75 to 79', '80 to 84', '85 or older'] \n",
    "\n",
    "# Filter the DataFrame for the specified age groups\n",
    "over_64_df = filtered_df[filtered_df['AGEGRP'].isin(AGE65PLUS)]\n",
    "\n",
    "# Group by 'YEAR' and sum 'Value' for each group, creating a new 'AGEGRP' for \"35 TO 64\"\n",
    "over_64_df = over_64_df.groupby('YEAR')['Value'].sum().reset_index()\n",
    "over_64_df['AGEGRP'] = '65 AND OLDER'\n",
    "\n",
    "over_64_df.head()"
   ]
  },
  {
   "cell_type": "code",
   "execution_count": 293,
   "id": "477aee5a-b07c-45b1-813f-1cdeb2b7f9a4",
   "metadata": {},
   "outputs": [
    {
     "data": {
      "text/html": [
       "<div>\n",
       "<style scoped>\n",
       "    .dataframe tbody tr th:only-of-type {\n",
       "        vertical-align: middle;\n",
       "    }\n",
       "\n",
       "    .dataframe tbody tr th {\n",
       "        vertical-align: top;\n",
       "    }\n",
       "\n",
       "    .dataframe thead th {\n",
       "        text-align: right;\n",
       "    }\n",
       "</style>\n",
       "<table border=\"1\" class=\"dataframe\">\n",
       "  <thead>\n",
       "    <tr style=\"text-align: right;\">\n",
       "      <th></th>\n",
       "      <th>YEAR</th>\n",
       "      <th>Value</th>\n",
       "      <th>AGEGRP</th>\n",
       "    </tr>\n",
       "  </thead>\n",
       "  <tbody>\n",
       "    <tr>\n",
       "      <th>0</th>\n",
       "      <td>2000</td>\n",
       "      <td>899510</td>\n",
       "      <td>UNDER 35</td>\n",
       "    </tr>\n",
       "    <tr>\n",
       "      <th>1</th>\n",
       "      <td>2010</td>\n",
       "      <td>1947657</td>\n",
       "      <td>UNDER 35</td>\n",
       "    </tr>\n",
       "    <tr>\n",
       "      <th>2</th>\n",
       "      <td>2020</td>\n",
       "      <td>3170280</td>\n",
       "      <td>UNDER 35</td>\n",
       "    </tr>\n",
       "    <tr>\n",
       "      <th>3</th>\n",
       "      <td>2000</td>\n",
       "      <td>662071</td>\n",
       "      <td>35 TO 64</td>\n",
       "    </tr>\n",
       "    <tr>\n",
       "      <th>4</th>\n",
       "      <td>2010</td>\n",
       "      <td>1560721</td>\n",
       "      <td>35 TO 64</td>\n",
       "    </tr>\n",
       "  </tbody>\n",
       "</table>\n",
       "</div>"
      ],
      "text/plain": [
       "   YEAR    Value    AGEGRP\n",
       "0  2000   899510  UNDER 35\n",
       "1  2010  1947657  UNDER 35\n",
       "2  2020  3170280  UNDER 35\n",
       "3  2000   662071  35 TO 64\n",
       "4  2010  1560721  35 TO 64"
      ]
     },
     "execution_count": 293,
     "metadata": {},
     "output_type": "execute_result"
    }
   ],
   "source": [
    "combined_2000_df = pd.concat([under_35_df, age35to64_df, over_64_df, yearly_sum], ignore_index=True)\n",
    "combined_2000_df.head()"
   ]
  },
  {
   "cell_type": "markdown",
   "id": "d5ff511f-0966-4077-ba25-61036e2eee98",
   "metadata": {},
   "source": [
    "## Adding 1990"
   ]
  },
  {
   "cell_type": "code",
   "execution_count": 294,
   "id": "91dead22-9fbc-41fc-92b7-e6e83e5f6204",
   "metadata": {},
   "outputs": [
    {
     "name": "stderr",
     "output_type": "stream",
     "text": [
      "<>:2: SyntaxWarning: invalid escape sequence '\\s'\n",
      "<>:2: SyntaxWarning: invalid escape sequence '\\s'\n",
      "C:\\Users\\ogwynn\\AppData\\Local\\Temp\\ipykernel_10840\\1969984832.py:2: SyntaxWarning: invalid escape sequence '\\s'\n",
      "  df = pd.read_csv(CENSUSPEP_COUNTY_WIDE_1990_1999_TABLE_PATH, sep='\\s+', header=None)\n"
     ]
    },
    {
     "data": {
      "text/html": [
       "<div>\n",
       "<style scoped>\n",
       "    .dataframe tbody tr th:only-of-type {\n",
       "        vertical-align: middle;\n",
       "    }\n",
       "\n",
       "    .dataframe tbody tr th {\n",
       "        vertical-align: top;\n",
       "    }\n",
       "\n",
       "    .dataframe thead th {\n",
       "        text-align: right;\n",
       "    }\n",
       "</style>\n",
       "<table border=\"1\" class=\"dataframe\">\n",
       "  <thead>\n",
       "    <tr style=\"text-align: right;\">\n",
       "      <th></th>\n",
       "      <th>YEAR</th>\n",
       "      <th>FIPSCOUNTY</th>\n",
       "      <th>AGEGRP</th>\n",
       "      <th>RACE-SEX</th>\n",
       "      <th>LATIN</th>\n",
       "      <th>Value</th>\n",
       "    </tr>\n",
       "  </thead>\n",
       "  <tbody>\n",
       "    <tr>\n",
       "      <th>0</th>\n",
       "      <td>90</td>\n",
       "      <td>1001</td>\n",
       "      <td>0</td>\n",
       "      <td>1</td>\n",
       "      <td>1</td>\n",
       "      <td>239</td>\n",
       "    </tr>\n",
       "    <tr>\n",
       "      <th>1</th>\n",
       "      <td>90</td>\n",
       "      <td>1001</td>\n",
       "      <td>0</td>\n",
       "      <td>2</td>\n",
       "      <td>1</td>\n",
       "      <td>203</td>\n",
       "    </tr>\n",
       "    <tr>\n",
       "      <th>2</th>\n",
       "      <td>90</td>\n",
       "      <td>1001</td>\n",
       "      <td>1</td>\n",
       "      <td>1</td>\n",
       "      <td>1</td>\n",
       "      <td>821</td>\n",
       "    </tr>\n",
       "    <tr>\n",
       "      <th>3</th>\n",
       "      <td>90</td>\n",
       "      <td>1001</td>\n",
       "      <td>1</td>\n",
       "      <td>2</td>\n",
       "      <td>1</td>\n",
       "      <td>769</td>\n",
       "    </tr>\n",
       "    <tr>\n",
       "      <th>4</th>\n",
       "      <td>90</td>\n",
       "      <td>1001</td>\n",
       "      <td>2</td>\n",
       "      <td>1</td>\n",
       "      <td>1</td>\n",
       "      <td>1089</td>\n",
       "    </tr>\n",
       "  </tbody>\n",
       "</table>\n",
       "</div>"
      ],
      "text/plain": [
       "   YEAR  FIPSCOUNTY  AGEGRP  RACE-SEX  LATIN  Value\n",
       "0    90        1001       0         1      1    239\n",
       "1    90        1001       0         2      1    203\n",
       "2    90        1001       1         1      1    821\n",
       "3    90        1001       1         2      1    769\n",
       "4    90        1001       2         1      1   1089"
      ]
     },
     "execution_count": 294,
     "metadata": {},
     "output_type": "execute_result"
    }
   ],
   "source": [
    "# Read the file using read_csv with a regex pattern as the delimiter for multiple spaces\n",
    "df = pd.read_csv(CENSUSPEP_COUNTY_WIDE_1990_1999_TABLE_PATH, sep='\\s+', header=None)\n",
    "\n",
    "df.columns = ['YEAR', 'FIPSCOUNTY', 'AGEGRP', 'RACE-SEX', 'LATIN', 'Value']\n",
    "\n",
    "df.to_csv(CENSUSPEP_COUNTY_WIDE_1990_1999_CSV_TABLE_PATH)\n",
    "\n",
    "df.head()"
   ]
  },
  {
   "cell_type": "code",
   "execution_count": 295,
   "id": "afd65241-b9ac-4562-a7d2-7f7f5f012505",
   "metadata": {},
   "outputs": [
    {
     "name": "stdout",
     "output_type": "stream",
     "text": [
      "        YEAR  AGEGRP  Value\n",
      "626240    90       0    482\n",
      "626241    90       0    451\n",
      "626242    90       1   2016\n",
      "626243    90       1   1915\n",
      "626244    90       2   2667\n",
      "...      ...     ...    ...\n",
      "644475    90      16      0\n",
      "644476    90      17      0\n",
      "644477    90      17      0\n",
      "644478    90      18      0\n",
      "644479    90      18      0\n",
      "\n",
      "[3040 rows x 3 columns]\n"
     ]
    }
   ],
   "source": [
    "fips_codes_to_keep= [39041, 39045, 39049, 39083, 39089, 39097, 39101, 39117, 39129, 39159]\n",
    "\n",
    "# Filter for 10-County region\n",
    "filtered_df = df[df['FIPSCOUNTY'].isin(fips_codes_to_keep)]\n",
    "\n",
    "# Keep only the 'YEAR', 'AGEGRP', and 'VALUE' columns\n",
    "filtered_df = filtered_df[['YEAR', 'AGEGRP', 'Value']]\n",
    "\n",
    "# Filter the DataFrame to keep only rows where YEAR equals 90\n",
    "filtered_df = filtered_df[filtered_df['YEAR'] == 90]\n",
    "\n",
    "print(filtered_df)"
   ]
  },
  {
   "cell_type": "code",
   "execution_count": 296,
   "id": "bdd8de68-4167-4ef6-a057-d4cc067b17ab",
   "metadata": {},
   "outputs": [
    {
     "name": "stdout",
     "output_type": "stream",
     "text": [
      "    YEAR  AGEGRP   Value\n",
      "0     90       0   23969\n",
      "1     90       1   89499\n",
      "2     90       2  107569\n",
      "3     90       3  101009\n",
      "4     90       4  111660\n",
      "5     90       5  134734\n",
      "6     90       6  141905\n",
      "7     90       7  143236\n",
      "8     90       8  126129\n",
      "9     90       9  112327\n",
      "10    90      10   83453\n",
      "11    90      11   69314\n",
      "12    90      12   61711\n",
      "13    90      13   60062\n",
      "14    90      14   52851\n",
      "15    90      15   39541\n",
      "16    90      16   29359\n",
      "17    90      17   19221\n",
      "18    90      18   15450\n"
     ]
    }
   ],
   "source": [
    "# Group by 'YEAR' and 'AGEGRP', and sum 'VALUE' for each group\n",
    "added_1990_df = filtered_df.groupby(['YEAR', 'AGEGRP'], as_index=False)['Value'].sum()\n",
    "\n",
    "# Print the combined DataFrame\n",
    "print(added_1990_df)"
   ]
  },
  {
   "cell_type": "code",
   "execution_count": 297,
   "id": "36e665df-b177-466d-b63d-a1cbd7cdc9a4",
   "metadata": {},
   "outputs": [
    {
     "data": {
      "text/html": [
       "<div>\n",
       "<style scoped>\n",
       "    .dataframe tbody tr th:only-of-type {\n",
       "        vertical-align: middle;\n",
       "    }\n",
       "\n",
       "    .dataframe tbody tr th {\n",
       "        vertical-align: top;\n",
       "    }\n",
       "\n",
       "    .dataframe thead th {\n",
       "        text-align: right;\n",
       "    }\n",
       "</style>\n",
       "<table border=\"1\" class=\"dataframe\">\n",
       "  <thead>\n",
       "    <tr style=\"text-align: right;\">\n",
       "      <th></th>\n",
       "      <th>YEAR</th>\n",
       "      <th>Value</th>\n",
       "      <th>AGEGRP</th>\n",
       "    </tr>\n",
       "  </thead>\n",
       "  <tbody>\n",
       "    <tr>\n",
       "      <th>0</th>\n",
       "      <td>90</td>\n",
       "      <td>156422</td>\n",
       "      <td>65 AND OLDER</td>\n",
       "    </tr>\n",
       "  </tbody>\n",
       "</table>\n",
       "</div>"
      ],
      "text/plain": [
       "   YEAR   Value        AGEGRP\n",
       "0    90  156422  65 AND OLDER"
      ]
     },
     "execution_count": 297,
     "metadata": {},
     "output_type": "execute_result"
    }
   ],
   "source": [
    "# Define the age groups for 35 to 64\n",
    "AGE65PLUS = [14, 15, 16, 17, 18] \n",
    "\n",
    "# Filter the DataFrame for the specified age groups\n",
    "over_64_df = added_1990_df[added_1990_df['AGEGRP'].isin(AGE65PLUS)]\n",
    "\n",
    "# Group by 'YEAR' and sum 'Value' for each group, creating a new 'AGEGRP' for \"35 TO 64\"\n",
    "over_64_df = over_64_df.groupby('YEAR')['Value'].sum().reset_index()\n",
    "over_64_df['AGEGRP'] = '65 AND OLDER'\n",
    "\n",
    "over_64_df.head()"
   ]
  },
  {
   "cell_type": "code",
   "execution_count": 298,
   "id": "30cef9db-bed4-4afc-aa8a-769cd28415f0",
   "metadata": {},
   "outputs": [
    {
     "data": {
      "text/html": [
       "<div>\n",
       "<style scoped>\n",
       "    .dataframe tbody tr th:only-of-type {\n",
       "        vertical-align: middle;\n",
       "    }\n",
       "\n",
       "    .dataframe tbody tr th {\n",
       "        vertical-align: top;\n",
       "    }\n",
       "\n",
       "    .dataframe thead th {\n",
       "        text-align: right;\n",
       "    }\n",
       "</style>\n",
       "<table border=\"1\" class=\"dataframe\">\n",
       "  <thead>\n",
       "    <tr style=\"text-align: right;\">\n",
       "      <th></th>\n",
       "      <th>YEAR</th>\n",
       "      <th>Value</th>\n",
       "      <th>AGEGRP</th>\n",
       "    </tr>\n",
       "  </thead>\n",
       "  <tbody>\n",
       "    <tr>\n",
       "      <th>0</th>\n",
       "      <td>90</td>\n",
       "      <td>512996</td>\n",
       "      <td>35 TO 64</td>\n",
       "    </tr>\n",
       "  </tbody>\n",
       "</table>\n",
       "</div>"
      ],
      "text/plain": [
       "   YEAR   Value    AGEGRP\n",
       "0    90  512996  35 TO 64"
      ]
     },
     "execution_count": 298,
     "metadata": {},
     "output_type": "execute_result"
    }
   ],
   "source": [
    "# Define the age groups for 35 to 64\n",
    "AGE35TO64 = [8, 9, 10,11,12,13]\n",
    "\n",
    "# Filter the DataFrame for the specified age groups\n",
    "filtered_df_35to64 = added_1990_df[added_1990_df['AGEGRP'].isin(AGE35TO64)]\n",
    "\n",
    "# Group by 'YEAR' and sum 'Value' for each group, creating a new 'AGEGRP' for \"35 TO 64\"\n",
    "age35to64_df = filtered_df_35to64.groupby('YEAR')['Value'].sum().reset_index()\n",
    "age35to64_df['AGEGRP'] = '35 TO 64'\n",
    "\n",
    "age35to64_df.head()"
   ]
  },
  {
   "cell_type": "code",
   "execution_count": 299,
   "id": "f0bb8f1a-00b4-420e-882c-bbdd185da2db",
   "metadata": {},
   "outputs": [
    {
     "data": {
      "text/html": [
       "<div>\n",
       "<style scoped>\n",
       "    .dataframe tbody tr th:only-of-type {\n",
       "        vertical-align: middle;\n",
       "    }\n",
       "\n",
       "    .dataframe tbody tr th {\n",
       "        vertical-align: top;\n",
       "    }\n",
       "\n",
       "    .dataframe thead th {\n",
       "        text-align: right;\n",
       "    }\n",
       "</style>\n",
       "<table border=\"1\" class=\"dataframe\">\n",
       "  <thead>\n",
       "    <tr style=\"text-align: right;\">\n",
       "      <th></th>\n",
       "      <th>YEAR</th>\n",
       "      <th>Value</th>\n",
       "      <th>AGEGRP</th>\n",
       "    </tr>\n",
       "  </thead>\n",
       "  <tbody>\n",
       "    <tr>\n",
       "      <th>0</th>\n",
       "      <td>90</td>\n",
       "      <td>853581</td>\n",
       "      <td>UNDER 35</td>\n",
       "    </tr>\n",
       "  </tbody>\n",
       "</table>\n",
       "</div>"
      ],
      "text/plain": [
       "   YEAR   Value    AGEGRP\n",
       "0    90  853581  UNDER 35"
      ]
     },
     "execution_count": 299,
     "metadata": {},
     "output_type": "execute_result"
    }
   ],
   "source": [
    "AGEUNDER35 = [0,1,2,3,4,5,6,7]\n",
    "\n",
    "# Filter the DataFrame for the specified age groups\n",
    "under_35_df = added_1990_df[added_1990_df['AGEGRP'].isin(AGEUNDER35)]\n",
    "\n",
    "# Group by 'YEAR' and sum 'Value' for each group, creating a new 'AGEGRP' for \"UNDER 35\"\n",
    "under_35_df = under_35_df.groupby('YEAR')['Value'].sum().reset_index()\n",
    "under_35_df['AGEGRP'] = 'UNDER 35'\n",
    "\n",
    "under_35_df.head()"
   ]
  },
  {
   "cell_type": "code",
   "execution_count": 300,
   "id": "22495945-1ab4-4542-bd3e-caac724455f6",
   "metadata": {},
   "outputs": [
    {
     "data": {
      "text/html": [
       "<div>\n",
       "<style scoped>\n",
       "    .dataframe tbody tr th:only-of-type {\n",
       "        vertical-align: middle;\n",
       "    }\n",
       "\n",
       "    .dataframe tbody tr th {\n",
       "        vertical-align: top;\n",
       "    }\n",
       "\n",
       "    .dataframe thead th {\n",
       "        text-align: right;\n",
       "    }\n",
       "</style>\n",
       "<table border=\"1\" class=\"dataframe\">\n",
       "  <thead>\n",
       "    <tr style=\"text-align: right;\">\n",
       "      <th></th>\n",
       "      <th>YEAR</th>\n",
       "      <th>Value</th>\n",
       "      <th>AGEGRP</th>\n",
       "    </tr>\n",
       "  </thead>\n",
       "  <tbody>\n",
       "    <tr>\n",
       "      <th>0</th>\n",
       "      <td>1990</td>\n",
       "      <td>853581</td>\n",
       "      <td>UNDER 35</td>\n",
       "    </tr>\n",
       "    <tr>\n",
       "      <th>1</th>\n",
       "      <td>1990</td>\n",
       "      <td>512996</td>\n",
       "      <td>35 TO 64</td>\n",
       "    </tr>\n",
       "    <tr>\n",
       "      <th>2</th>\n",
       "      <td>1990</td>\n",
       "      <td>156422</td>\n",
       "      <td>65 AND OLDER</td>\n",
       "    </tr>\n",
       "    <tr>\n",
       "      <th>3</th>\n",
       "      <td>1990</td>\n",
       "      <td>9137994</td>\n",
       "      <td>Total</td>\n",
       "    </tr>\n",
       "  </tbody>\n",
       "</table>\n",
       "</div>"
      ],
      "text/plain": [
       "   YEAR    Value        AGEGRP\n",
       "0  1990   853581      UNDER 35\n",
       "1  1990   512996      35 TO 64\n",
       "2  1990   156422  65 AND OLDER\n",
       "3  1990  9137994         Total"
      ]
     },
     "execution_count": 300,
     "metadata": {},
     "output_type": "execute_result"
    }
   ],
   "source": [
    "# Sum all values in the \"VALUE\" column\n",
    "total_value_sum = combined_1990_df['Value'].sum()\n",
    "\n",
    "# Create a new DataFrame for the row to be added\n",
    "new_row_df = pd.DataFrame({'YEAR': [90], 'AGEGRP': ['Total'], 'Value': [total_value_sum]})\n",
    "\n",
    "combined_1990_df = pd.concat([under_35_df, age35to64_df, over_64_df, new_row_df], ignore_index=True)\n",
    "\n",
    "# Change rows where YEAR=\"90\" to YEAR=\"1990\"\n",
    "combined_1990_df.loc[combined_1990_df['YEAR'] == 90, 'YEAR'] = 1990\n",
    "\n",
    "combined_1990_df.head()"
   ]
  },
  {
   "cell_type": "markdown",
   "id": "b0be990b-e456-459c-b028-8dd6b7857b85",
   "metadata": {},
   "source": [
    "## Adding 1980"
   ]
  },
  {
   "cell_type": "code",
   "execution_count": 301,
   "id": "66c6aa9e-eb05-4dd9-8692-3083a3a34126",
   "metadata": {},
   "outputs": [],
   "source": [
    "# Read the CSV file into a DataFrame\n",
    "data = pd.read_csv(CENSUSPEP_COUNTY_WIDE_1980_1989_TABLE_PATH, index_col=0,low_memory=False)\n",
    "\n",
    "# Remove the first four rows\n",
    "df = data.iloc[4:]\n",
    "\n",
    "# Use the first row to set the column names\n",
    "df.columns = df.iloc[0]\n",
    "\n",
    "# Drop the first row\n",
    "df = df.drop(df.index[0])\n",
    "\n",
    "# Reset the index\n",
    "df.reset_index(drop=True, inplace=True)\n",
    "\n",
    "# Keep only the first 18847 rows (years after 1980) of the DataFrame\n",
    "df_filtered = df.iloc[:18847]\n"
   ]
  },
  {
   "cell_type": "code",
   "execution_count": 302,
   "id": "5ba8cf08-21a3-47d2-89ae-cbebc940eec9",
   "metadata": {},
   "outputs": [
    {
     "data": {
      "text/html": [
       "<div>\n",
       "<style scoped>\n",
       "    .dataframe tbody tr th:only-of-type {\n",
       "        vertical-align: middle;\n",
       "    }\n",
       "\n",
       "    .dataframe tbody tr th {\n",
       "        vertical-align: top;\n",
       "    }\n",
       "\n",
       "    .dataframe thead th {\n",
       "        text-align: right;\n",
       "    }\n",
       "</style>\n",
       "<table border=\"1\" class=\"dataframe\">\n",
       "  <thead>\n",
       "    <tr style=\"text-align: right;\">\n",
       "      <th>Year of Estimate</th>\n",
       "      <th>Under 5 years</th>\n",
       "      <th>5 to 9 years</th>\n",
       "      <th>10 to 14 years</th>\n",
       "      <th>15 to 19 years</th>\n",
       "      <th>20 to 24 years</th>\n",
       "      <th>25 to 29 years</th>\n",
       "      <th>30 to 34 years</th>\n",
       "      <th>35 to 39 years</th>\n",
       "      <th>40 to 44 years</th>\n",
       "      <th>45 to 49 years</th>\n",
       "      <th>50 to 54 years</th>\n",
       "      <th>55 to 59 years</th>\n",
       "      <th>60 to 64 years</th>\n",
       "      <th>65 to 69 years</th>\n",
       "      <th>70 to 74 years</th>\n",
       "      <th>75 to 79 years</th>\n",
       "      <th>80 to 84 years</th>\n",
       "      <th>85 years and over</th>\n",
       "    </tr>\n",
       "  </thead>\n",
       "  <tbody>\n",
       "    <tr>\n",
       "      <th>12355</th>\n",
       "      <td>1972</td>\n",
       "      <td>2101</td>\n",
       "      <td>2319</td>\n",
       "      <td>2978</td>\n",
       "      <td>2417</td>\n",
       "      <td>2094</td>\n",
       "      <td>2113</td>\n",
       "      <td>1820</td>\n",
       "      <td>1576</td>\n",
       "      <td>1419</td>\n",
       "      <td>1352</td>\n",
       "      <td>1163</td>\n",
       "      <td>884</td>\n",
       "      <td>690</td>\n",
       "      <td>522</td>\n",
       "      <td>317</td>\n",
       "      <td>175</td>\n",
       "      <td>123</td>\n",
       "    </tr>\n",
       "    <tr>\n",
       "      <th>12356</th>\n",
       "      <td>1818</td>\n",
       "      <td>1966</td>\n",
       "      <td>2186</td>\n",
       "      <td>2763</td>\n",
       "      <td>2351</td>\n",
       "      <td>2138</td>\n",
       "      <td>2181</td>\n",
       "      <td>1937</td>\n",
       "      <td>1550</td>\n",
       "      <td>1341</td>\n",
       "      <td>1296</td>\n",
       "      <td>1206</td>\n",
       "      <td>979</td>\n",
       "      <td>857</td>\n",
       "      <td>722</td>\n",
       "      <td>552</td>\n",
       "      <td>378</td>\n",
       "      <td>347</td>\n",
       "    </tr>\n",
       "    <tr>\n",
       "      <th>12357</th>\n",
       "      <td>52</td>\n",
       "      <td>52</td>\n",
       "      <td>54</td>\n",
       "      <td>97</td>\n",
       "      <td>69</td>\n",
       "      <td>51</td>\n",
       "      <td>45</td>\n",
       "      <td>33</td>\n",
       "      <td>34</td>\n",
       "      <td>26</td>\n",
       "      <td>26</td>\n",
       "      <td>26</td>\n",
       "      <td>20</td>\n",
       "      <td>12</td>\n",
       "      <td>12</td>\n",
       "      <td>9</td>\n",
       "      <td>7</td>\n",
       "      <td>2</td>\n",
       "    </tr>\n",
       "    <tr>\n",
       "      <th>12358</th>\n",
       "      <td>50</td>\n",
       "      <td>38</td>\n",
       "      <td>66</td>\n",
       "      <td>118</td>\n",
       "      <td>62</td>\n",
       "      <td>43</td>\n",
       "      <td>41</td>\n",
       "      <td>23</td>\n",
       "      <td>31</td>\n",
       "      <td>27</td>\n",
       "      <td>26</td>\n",
       "      <td>28</td>\n",
       "      <td>23</td>\n",
       "      <td>25</td>\n",
       "      <td>16</td>\n",
       "      <td>8</td>\n",
       "      <td>7</td>\n",
       "      <td>6</td>\n",
       "    </tr>\n",
       "    <tr>\n",
       "      <th>12359</th>\n",
       "      <td>9</td>\n",
       "      <td>6</td>\n",
       "      <td>11</td>\n",
       "      <td>12</td>\n",
       "      <td>21</td>\n",
       "      <td>14</td>\n",
       "      <td>8</td>\n",
       "      <td>8</td>\n",
       "      <td>7</td>\n",
       "      <td>3</td>\n",
       "      <td>2</td>\n",
       "      <td>1</td>\n",
       "      <td>1</td>\n",
       "      <td>4</td>\n",
       "      <td>2</td>\n",
       "      <td>1</td>\n",
       "      <td>1</td>\n",
       "      <td>0</td>\n",
       "    </tr>\n",
       "  </tbody>\n",
       "</table>\n",
       "</div>"
      ],
      "text/plain": [
       "Year of Estimate Under 5 years 5 to 9 years 10 to 14 years 15 to 19 years  \\\n",
       "12355                     1972         2101           2319           2978   \n",
       "12356                     1818         1966           2186           2763   \n",
       "12357                       52           52             54             97   \n",
       "12358                       50           38             66            118   \n",
       "12359                        9            6             11             12   \n",
       "\n",
       "Year of Estimate 20 to 24 years 25 to 29 years 30 to 34 years 35 to 39 years  \\\n",
       "12355                      2417           2094           2113           1820   \n",
       "12356                      2351           2138           2181           1937   \n",
       "12357                        69             51             45             33   \n",
       "12358                        62             43             41             23   \n",
       "12359                        21             14              8              8   \n",
       "\n",
       "Year of Estimate 40 to 44 years 45 to 49 years 50 to 54 years 55 to 59 years  \\\n",
       "12355                      1576           1419           1352           1163   \n",
       "12356                      1550           1341           1296           1206   \n",
       "12357                        34             26             26             26   \n",
       "12358                        31             27             26             28   \n",
       "12359                         7              3              2              1   \n",
       "\n",
       "Year of Estimate 60 to 64 years 65 to 69 years 70 to 74 years 75 to 79 years  \\\n",
       "12355                       884            690            522            317   \n",
       "12356                       979            857            722            552   \n",
       "12357                        20             12             12              9   \n",
       "12358                        23             25             16              8   \n",
       "12359                         1              4              2              1   \n",
       "\n",
       "Year of Estimate 80 to 84 years 85 years and over  \n",
       "12355                       175               123  \n",
       "12356                       378               347  \n",
       "12357                         7                 2  \n",
       "12358                         7                 6  \n",
       "12359                         1                 0  "
      ]
     },
     "execution_count": 302,
     "metadata": {},
     "output_type": "execute_result"
    }
   ],
   "source": [
    "fips_codes_to_keep= [\"39041\", \"39045\", \"39049\", \"39083\", \"39089\", \"39097\", \"39101\", \"39117\", \"39129\", \"39159\"]\n",
    "\n",
    "# Filter for 10-County region\n",
    "filtered_df = df_filtered[df_filtered['FIPS State and County Codes'].isin(fips_codes_to_keep)]\n",
    "\n",
    "filtered_df = filtered_df[['Under 5 years', '5 to 9 years', '10 to 14 years','15 to 19 years','20 to 24 years','25 to 29 years','30 to 34 years','35 to 39 years', '40 to 44 years','45 to 49 years','50 to 54 years','55 to 59 years','60 to 64 years','65 to 69 years','70 to 74 years','75 to 79 years','80 to 84 years','85 years and over']]\n",
    "\n",
    "filtered_df.head()"
   ]
  },
  {
   "cell_type": "code",
   "execution_count": null,
   "id": "708dc9e0-03d7-4149-b8e2-73a17740d031",
   "metadata": {},
   "outputs": [],
   "source": [
    "# Convert all columns in the DataFrame to integer type\n",
    "filtered_df = filtered_df.astype(int)\n",
    "\n",
    "# Sum all columns individually\n",
    "column_sums = filtered_df.sum()\n",
    "\n",
    "# Sum the first 7 column sums\n",
    "UNDER35SUM = column_sums.iloc[:7].sum()\n",
    "\n",
    "# Sum the next 6 column sums (from the 8th to the 13th column)\n",
    "AGE35TO64SUM = column_sums.iloc[7:13].sum()\n",
    "\n",
    "# Sum the following 5 column sums after the first 13 (starting from the 14th column)\n",
    "OVER64SUM = column_sums.iloc[13:18].sum()\n",
    "\n",
    "TOTALSUM=(column_sums.sum())\n",
    "\n",
    "# Create a new DataFrame for the row to be added\n",
    "new_row_1980_1 = pd.DataFrame({'YEAR': [1980], 'AGEGRP': ['UNDER 35'], 'Value': [UNDER35SUM]})\n",
    "# Create a new DataFrame for the row to be added\n",
    "new_row_1980_2 = pd.DataFrame({'YEAR': [1980], 'AGEGRP': ['35 TO 64'], 'Value': [AGE35TO64SUM]})\n",
    "# Create a new DataFrame for the row to be added\n",
    "new_row_1980_3 = pd.DataFrame({'YEAR': [1980], 'AGEGRP': ['65 AND OLDER'], 'Value': [OVER64SUM]})\n",
    "# Create a new DataFrame for the row to be added\n",
    "new_row_1980_4 = pd.DataFrame({'YEAR': [1980], 'AGEGRP': ['Total'], 'Value': [TOTALSUM]})\n",
    "\n",
    "combined_1980_df= pd.concat([new_row_1980_1, new_row_1980_2, new_row_1980_3, new_row_1980_4], ignore_index=True)\n",
    "\n",
    "combined_1980_df.head()"
   ]
  },
  {
   "cell_type": "markdown",
   "id": "a4085e6b-fb3d-43d9-901b-eb39c2b513a7",
   "metadata": {},
   "source": [
    "## Combining Census data"
   ]
  },
  {
   "cell_type": "code",
   "execution_count": 304,
   "id": "75ae3e2a-1d0d-48e4-8d0d-3fc1859aad43",
   "metadata": {},
   "outputs": [],
   "source": [
    "combined_all_df= pd.concat([combined_1980_df, combined_1990_df, combined_2000_df], ignore_index=True)\n",
    "\n",
    "# Sort the DataFrame by 'YEAR' and then by 'AGEGRP'\n",
    "combined_all_df = combined_all_df.sort_values(by=['YEAR', 'AGEGRP'])\n",
    "\n",
    "combined_all_df.to_csv(OUTPUT_TABLE_PATH)"
   ]
  },
  {
   "cell_type": "markdown",
   "id": "8b803f98-87e9-4c4f-8233-3a4a21ec0e6f",
   "metadata": {},
   "source": [
    "## Getting County Projection data"
   ]
  },
  {
   "cell_type": "code",
   "execution_count": 307,
   "id": "e2abb7f1-c762-4d52-8f0b-1fa4fb365735",
   "metadata": {},
   "outputs": [
    {
     "name": "stdout",
     "output_type": "stream",
     "text": [
      "Saved Total Population to ./input_data/Total Population.csv\n",
      "Saved Population Charts to ./input_data/Population Charts.csv\n",
      "Saved Population by Age to ./input_data/Population by Age.csv\n",
      "Saved Group Quarters and Households to ./input_data/Group Quarters and Households.csv\n",
      "Saved Household Population by Age to ./input_data/Household Population by Age.csv\n",
      "Saved Households and Housing Units to ./input_data/Households and Housing Units.csv\n",
      "Saved Residential Labor Force to ./input_data/Residential Labor Force.csv\n",
      "Saved Jobs to ./input_data/Jobs.csv\n",
      "Saved All Data (Unformatted) to ./input_data/All Data (Unformatted).csv\n",
      "Saved Variable Dictionary to ./input_data/Variable Dictionary.csv\n",
      "Saved Population Chart Data to ./input_data/Population Chart Data.csv\n",
      "Saved Revision History to ./input_data/Revision History.csv\n"
     ]
    }
   ],
   "source": [
    "# Path to the .xlsx file\n",
    "excel_path = \"../morpc-county-controls/deliverables/CountyControls_WEB.xlsx\"\n",
    "\n",
    "# Use ExcelFile to open the Excel file and iterate through sheets\n",
    "with pd.ExcelFile(excel_path) as xls:\n",
    "    for sheet_name in xls.sheet_names:\n",
    "        # Read each sheet to a pandas DataFrame\n",
    "        df = pd.read_excel(xls, sheet_name=sheet_name)\n",
    "        \n",
    "        # Generate CSV file name based on sheet name\n",
    "        csv_file = f'./input_data/{sheet_name}.csv'\n",
    "        \n",
    "        # Save the DataFrame as a CSV file\n",
    "        df.to_csv(csv_file, index=False)\n",
    "\n",
    "        print(f'Saved {sheet_name} to {csv_file}')"
   ]
  },
  {
   "cell_type": "code",
   "execution_count": 313,
   "id": "3281a96d-527d-456c-99ce-6a61c146a7a1",
   "metadata": {},
   "outputs": [],
   "source": [
    "data = pd.read_csv(\"./input_data/Population by Age.csv\", index_col=0,low_memory=False)\n",
    "# Skip the first two rows and reset the index\n",
    "df_modified = data.iloc[2:].reset_index(drop=True)\n",
    "\n",
    "# Use the first row (previously the third row of the original df) as column headers\n",
    "new_header = df_modified.iloc[0] # Capture the third row's values to be the new header\n",
    "df_modified = df_modified[1:] # Remove the first row from data\n",
    "df_modified.columns = new_header # Set the new header as the df columns\n",
    "\n",
    "# Reset the index again to account for the removed row\n",
    "df_modified.reset_index(drop=True, inplace=True)\n"
   ]
  },
  {
   "cell_type": "code",
   "execution_count": 314,
   "id": "cb14e546-ff98-4cb7-8763-f21906d868ce",
   "metadata": {},
   "outputs": [],
   "source": [
    "# Keep only the first 8 columns\n",
    "df_filtered = df_modified.iloc[:, :8].copy()\n",
    "df_filtered.to_csv(OUTPUT_TABLE1_PATH, index=False)"
   ]
  },
  {
   "cell_type": "code",
   "execution_count": null,
   "id": "d70e5d19-bdaa-4e05-ba35-922983fcbf1d",
   "metadata": {},
   "outputs": [],
   "source": [
    "# Take the first 16 rows of the DataFrame\n",
    "df_filtered = df.iloc[:16].copy()"
   ]
  }
 ],
 "metadata": {
  "kernelspec": {
   "display_name": "Python 3 (ipykernel)",
   "language": "python",
   "name": "python3"
  },
  "language_info": {
   "codemirror_mode": {
    "name": "ipython",
    "version": 3
   },
   "file_extension": ".py",
   "mimetype": "text/x-python",
   "name": "python",
   "nbconvert_exporter": "python",
   "pygments_lexer": "ipython3",
   "version": "3.12.2"
  }
 },
 "nbformat": 4,
 "nbformat_minor": 5
}
